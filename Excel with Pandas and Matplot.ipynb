{
 "cells": [
  {
   "cell_type": "code",
   "execution_count": 1,
   "metadata": {
    "collapsed": true
   },
   "outputs": [],
   "source": [
    "import pandas as pd\n",
    "from pandas import DataFrame\n",
    "import xlrd"
   ]
  },
  {
   "cell_type": "code",
   "execution_count": 2,
   "metadata": {
    "collapsed": true
   },
   "outputs": [],
   "source": [
    "xls_file = pd.ExcelFile('week 2_dognition_data_aggregated_by_dogid.xlsx')"
   ]
  },
  {
   "cell_type": "code",
   "execution_count": 3,
   "metadata": {
    "collapsed": true
   },
   "outputs": [],
   "source": [
    "table = xls_file.parse('Table 9 ')"
   ]
  },
  {
   "cell_type": "code",
   "execution_count": 9,
   "metadata": {
    "collapsed": false
   },
   "outputs": [
    {
     "data": {
      "text/html": [
       "<div>\n",
       "<table border=\"1\" class=\"dataframe\">\n",
       "  <thead>\n",
       "    <tr style=\"text-align: right;\">\n",
       "      <th></th>\n",
       "      <th>Dog ID</th>\n",
       "      <th>Total Tests Completed</th>\n",
       "      <th>Mean ITI (days)</th>\n",
       "      <th>Mean ITI (minutes)</th>\n",
       "      <th>Median ITI (days)</th>\n",
       "      <th>Median ITI (minutes)</th>\n",
       "      <th>Time diff between first and last game (days)</th>\n",
       "      <th>Time diff between first and last game (minutes)</th>\n",
       "      <th>User ID</th>\n",
       "      <th>Gender</th>\n",
       "      <th>...</th>\n",
       "      <th>Membership_ID</th>\n",
       "      <th>Subscribed</th>\n",
       "      <th>City</th>\n",
       "      <th>State</th>\n",
       "      <th>Zip</th>\n",
       "      <th>Country</th>\n",
       "      <th>Exclude</th>\n",
       "      <th>Free_Start_User</th>\n",
       "      <th>Last_Active_At</th>\n",
       "      <th>Membership_Type</th>\n",
       "    </tr>\n",
       "  </thead>\n",
       "  <tbody>\n",
       "    <tr>\n",
       "      <th>0</th>\n",
       "      <td>fd27b272-7144-11e5-ba71-058fbc01cf0b</td>\n",
       "      <td>21</td>\n",
       "      <td>28.201076</td>\n",
       "      <td>40609.549167</td>\n",
       "      <td>0.004687</td>\n",
       "      <td>6.750000</td>\n",
       "      <td>564.021516</td>\n",
       "      <td>812190.983333</td>\n",
       "      <td>ce134e42-7144-11e5-ba71-058fbc01cf0b</td>\n",
       "      <td>female</td>\n",
       "      <td>...</td>\n",
       "      <td>2.0</td>\n",
       "      <td>1.0</td>\n",
       "      <td>Grand Forks</td>\n",
       "      <td>ND</td>\n",
       "      <td>58201</td>\n",
       "      <td>US</td>\n",
       "      <td>0</td>\n",
       "      <td>0</td>\n",
       "      <td>2015-03-12 00:25:00</td>\n",
       "      <td>2</td>\n",
       "    </tr>\n",
       "    <tr>\n",
       "      <th>1</th>\n",
       "      <td>fd27b5ba-7144-11e5-ba71-058fbc01cf0b</td>\n",
       "      <td>20</td>\n",
       "      <td>0.413307</td>\n",
       "      <td>595.162281</td>\n",
       "      <td>0.005845</td>\n",
       "      <td>8.416667</td>\n",
       "      <td>7.852836</td>\n",
       "      <td>11308.083333</td>\n",
       "      <td>ce1353d8-7144-11e5-ba71-058fbc01cf0b</td>\n",
       "      <td>male</td>\n",
       "      <td>...</td>\n",
       "      <td>1.0</td>\n",
       "      <td>1.0</td>\n",
       "      <td>Barre</td>\n",
       "      <td>MA</td>\n",
       "      <td>01005</td>\n",
       "      <td>US</td>\n",
       "      <td>0</td>\n",
       "      <td>0</td>\n",
       "      <td>00:00:00</td>\n",
       "      <td>1</td>\n",
       "    </tr>\n",
       "    <tr>\n",
       "      <th>2</th>\n",
       "      <td>fd27b6b4-7144-11e5-ba71-058fbc01cf0b</td>\n",
       "      <td>2</td>\n",
       "      <td>0.009132</td>\n",
       "      <td>13.150000</td>\n",
       "      <td>0.009132</td>\n",
       "      <td>13.150000</td>\n",
       "      <td>0.009132</td>\n",
       "      <td>13.150000</td>\n",
       "      <td>ce135ab8-7144-11e5-ba71-058fbc01cf0b</td>\n",
       "      <td>male</td>\n",
       "      <td>...</td>\n",
       "      <td>1.0</td>\n",
       "      <td>1.0</td>\n",
       "      <td>Darien</td>\n",
       "      <td>CT</td>\n",
       "      <td>06820</td>\n",
       "      <td>US</td>\n",
       "      <td>0</td>\n",
       "      <td>0</td>\n",
       "      <td>00:00:00</td>\n",
       "      <td>1</td>\n",
       "    </tr>\n",
       "    <tr>\n",
       "      <th>3</th>\n",
       "      <td>fd27b79a-7144-11e5-ba71-058fbc01cf0b</td>\n",
       "      <td>11</td>\n",
       "      <td>56.115179</td>\n",
       "      <td>80805.858333</td>\n",
       "      <td>0.004433</td>\n",
       "      <td>6.383333</td>\n",
       "      <td>561.151794</td>\n",
       "      <td>808058.583333</td>\n",
       "      <td>ce13507c-7144-11e5-ba71-058fbc01cf0b</td>\n",
       "      <td>male</td>\n",
       "      <td>...</td>\n",
       "      <td>1.0</td>\n",
       "      <td>1.0</td>\n",
       "      <td>Winnetka</td>\n",
       "      <td>IL</td>\n",
       "      <td>60093</td>\n",
       "      <td>US</td>\n",
       "      <td>0</td>\n",
       "      <td>0</td>\n",
       "      <td>2014-09-12 19:26:00</td>\n",
       "      <td>1</td>\n",
       "    </tr>\n",
       "    <tr>\n",
       "      <th>4</th>\n",
       "      <td>fd27b86c-7144-11e5-ba71-058fbc01cf0b</td>\n",
       "      <td>31</td>\n",
       "      <td>7.734254</td>\n",
       "      <td>11137.326111</td>\n",
       "      <td>0.000399</td>\n",
       "      <td>0.575000</td>\n",
       "      <td>232.027627</td>\n",
       "      <td>334119.783333</td>\n",
       "      <td>ce135e14-7144-11e5-ba71-058fbc01cf0b</td>\n",
       "      <td>female</td>\n",
       "      <td>...</td>\n",
       "      <td>2.0</td>\n",
       "      <td>1.0</td>\n",
       "      <td>Raleigh</td>\n",
       "      <td>NC</td>\n",
       "      <td>27606</td>\n",
       "      <td>US</td>\n",
       "      <td>1</td>\n",
       "      <td>0</td>\n",
       "      <td>00:00:00</td>\n",
       "      <td>2</td>\n",
       "    </tr>\n",
       "  </tbody>\n",
       "</table>\n",
       "<p>5 rows × 30 columns</p>\n",
       "</div>"
      ],
      "text/plain": [
       "                                 Dog ID  Total Tests Completed  \\\n",
       "0  fd27b272-7144-11e5-ba71-058fbc01cf0b                     21   \n",
       "1  fd27b5ba-7144-11e5-ba71-058fbc01cf0b                     20   \n",
       "2  fd27b6b4-7144-11e5-ba71-058fbc01cf0b                      2   \n",
       "3  fd27b79a-7144-11e5-ba71-058fbc01cf0b                     11   \n",
       "4  fd27b86c-7144-11e5-ba71-058fbc01cf0b                     31   \n",
       "\n",
       "   Mean ITI (days)  Mean ITI (minutes)  Median ITI (days)  \\\n",
       "0        28.201076        40609.549167           0.004687   \n",
       "1         0.413307          595.162281           0.005845   \n",
       "2         0.009132           13.150000           0.009132   \n",
       "3        56.115179        80805.858333           0.004433   \n",
       "4         7.734254        11137.326111           0.000399   \n",
       "\n",
       "   Median ITI (minutes)  Time diff between first and last game (days)  \\\n",
       "0              6.750000                                    564.021516   \n",
       "1              8.416667                                      7.852836   \n",
       "2             13.150000                                      0.009132   \n",
       "3              6.383333                                    561.151794   \n",
       "4              0.575000                                    232.027627   \n",
       "\n",
       "   Time diff between first and last game (minutes)  \\\n",
       "0                                    812190.983333   \n",
       "1                                     11308.083333   \n",
       "2                                        13.150000   \n",
       "3                                    808058.583333   \n",
       "4                                    334119.783333   \n",
       "\n",
       "                                User ID  Gender       ...         \\\n",
       "0  ce134e42-7144-11e5-ba71-058fbc01cf0b  female       ...          \n",
       "1  ce1353d8-7144-11e5-ba71-058fbc01cf0b    male       ...          \n",
       "2  ce135ab8-7144-11e5-ba71-058fbc01cf0b    male       ...          \n",
       "3  ce13507c-7144-11e5-ba71-058fbc01cf0b    male       ...          \n",
       "4  ce135e14-7144-11e5-ba71-058fbc01cf0b  female       ...          \n",
       "\n",
       "   Membership_ID Subscribed         City State    Zip  Country  Exclude  \\\n",
       "0            2.0        1.0  Grand Forks    ND  58201       US        0   \n",
       "1            1.0        1.0        Barre    MA  01005       US        0   \n",
       "2            1.0        1.0       Darien    CT  06820       US        0   \n",
       "3            1.0        1.0     Winnetka    IL  60093       US        0   \n",
       "4            2.0        1.0      Raleigh    NC  27606       US        1   \n",
       "\n",
       "  Free_Start_User       Last_Active_At  Membership_Type  \n",
       "0               0  2015-03-12 00:25:00                2  \n",
       "1               0             00:00:00                1  \n",
       "2               0             00:00:00                1  \n",
       "3               0  2014-09-12 19:26:00                1  \n",
       "4               0             00:00:00                2  \n",
       "\n",
       "[5 rows x 30 columns]"
      ]
     },
     "execution_count": 9,
     "metadata": {},
     "output_type": "execute_result"
    }
   ],
   "source": [
    "table.head() #more than 17000 results"
   ]
  },
  {
   "cell_type": "code",
   "execution_count": 7,
   "metadata": {
    "collapsed": false
   },
   "outputs": [
    {
     "data": {
      "text/plain": [
       "3199"
      ]
     },
     "execution_count": 7,
     "metadata": {},
     "output_type": "execute_result"
    }
   ],
   "source": [
    "# Index of the row with the highest value in the 'Mean ITI (minutes)' column\n",
    "table['Mean ITI (minutes)'].idxmax()"
   ]
  },
  {
   "cell_type": "code",
   "execution_count": 7,
   "metadata": {
    "collapsed": false
   },
   "outputs": [
    {
     "data": {
      "text/html": [
       "<div>\n",
       "<table border=\"1\" class=\"dataframe\">\n",
       "  <thead>\n",
       "    <tr style=\"text-align: right;\">\n",
       "      <th></th>\n",
       "      <th>Dog ID</th>\n",
       "      <th>Total Tests Completed</th>\n",
       "    </tr>\n",
       "  </thead>\n",
       "  <tbody>\n",
       "    <tr>\n",
       "      <th>0</th>\n",
       "      <td>fd27b272-7144-11e5-ba71-058fbc01cf0b</td>\n",
       "      <td>21</td>\n",
       "    </tr>\n",
       "    <tr>\n",
       "      <th>1</th>\n",
       "      <td>fd27b5ba-7144-11e5-ba71-058fbc01cf0b</td>\n",
       "      <td>20</td>\n",
       "    </tr>\n",
       "    <tr>\n",
       "      <th>2</th>\n",
       "      <td>fd27b6b4-7144-11e5-ba71-058fbc01cf0b</td>\n",
       "      <td>2</td>\n",
       "    </tr>\n",
       "    <tr>\n",
       "      <th>3</th>\n",
       "      <td>fd27b79a-7144-11e5-ba71-058fbc01cf0b</td>\n",
       "      <td>11</td>\n",
       "    </tr>\n",
       "    <tr>\n",
       "      <th>4</th>\n",
       "      <td>fd27b86c-7144-11e5-ba71-058fbc01cf0b</td>\n",
       "      <td>31</td>\n",
       "    </tr>\n",
       "  </tbody>\n",
       "</table>\n",
       "</div>"
      ],
      "text/plain": [
       "                                 Dog ID  Total Tests Completed\n",
       "0  fd27b272-7144-11e5-ba71-058fbc01cf0b                     21\n",
       "1  fd27b5ba-7144-11e5-ba71-058fbc01cf0b                     20\n",
       "2  fd27b6b4-7144-11e5-ba71-058fbc01cf0b                      2\n",
       "3  fd27b79a-7144-11e5-ba71-058fbc01cf0b                     11\n",
       "4  fd27b86c-7144-11e5-ba71-058fbc01cf0b                     31"
      ]
     },
     "execution_count": 7,
     "metadata": {},
     "output_type": "execute_result"
    }
   ],
   "source": [
    "df2=table[['Dog ID', 'Total Tests Completed']]; #pull out only certain column\n",
    "df2.head()"
   ]
  },
  {
   "cell_type": "code",
   "execution_count": 8,
   "metadata": {
    "collapsed": false
   },
   "outputs": [
    {
     "data": {
      "text/html": [
       "<div>\n",
       "<table border=\"1\" class=\"dataframe\">\n",
       "  <thead>\n",
       "    <tr style=\"text-align: right;\">\n",
       "      <th></th>\n",
       "      <th>Dog ID</th>\n",
       "      <th>Total Tests Completed</th>\n",
       "      <th>Mean ITI (days)</th>\n",
       "      <th>Mean ITI (minutes)</th>\n",
       "      <th>Median ITI (days)</th>\n",
       "      <th>Median ITI (minutes)</th>\n",
       "      <th>Time diff between first and last game (days)</th>\n",
       "      <th>Time diff between first and last game (minutes)</th>\n",
       "      <th>User ID</th>\n",
       "      <th>Gender</th>\n",
       "      <th>...</th>\n",
       "      <th>Membership_ID</th>\n",
       "      <th>Subscribed</th>\n",
       "      <th>City</th>\n",
       "      <th>State</th>\n",
       "      <th>Zip</th>\n",
       "      <th>Country</th>\n",
       "      <th>Exclude</th>\n",
       "      <th>Free_Start_User</th>\n",
       "      <th>Last_Active_At</th>\n",
       "      <th>Membership_Type</th>\n",
       "    </tr>\n",
       "  </thead>\n",
       "  <tbody>\n",
       "    <tr>\n",
       "      <th>0</th>\n",
       "      <td>fd27b272-7144-11e5-ba71-058fbc01cf0b</td>\n",
       "      <td>21</td>\n",
       "      <td>28.201076</td>\n",
       "      <td>40609.549167</td>\n",
       "      <td>0.004687</td>\n",
       "      <td>6.750000</td>\n",
       "      <td>564.021516</td>\n",
       "      <td>812190.983333</td>\n",
       "      <td>ce134e42-7144-11e5-ba71-058fbc01cf0b</td>\n",
       "      <td>female</td>\n",
       "      <td>...</td>\n",
       "      <td>2.0</td>\n",
       "      <td>1.0</td>\n",
       "      <td>Grand Forks</td>\n",
       "      <td>ND</td>\n",
       "      <td>58201</td>\n",
       "      <td>US</td>\n",
       "      <td>0</td>\n",
       "      <td>0</td>\n",
       "      <td>2015-03-12 00:25:00</td>\n",
       "      <td>2</td>\n",
       "    </tr>\n",
       "    <tr>\n",
       "      <th>1</th>\n",
       "      <td>fd27b5ba-7144-11e5-ba71-058fbc01cf0b</td>\n",
       "      <td>20</td>\n",
       "      <td>0.413307</td>\n",
       "      <td>595.162281</td>\n",
       "      <td>0.005845</td>\n",
       "      <td>8.416667</td>\n",
       "      <td>7.852836</td>\n",
       "      <td>11308.083333</td>\n",
       "      <td>ce1353d8-7144-11e5-ba71-058fbc01cf0b</td>\n",
       "      <td>male</td>\n",
       "      <td>...</td>\n",
       "      <td>1.0</td>\n",
       "      <td>1.0</td>\n",
       "      <td>Barre</td>\n",
       "      <td>MA</td>\n",
       "      <td>01005</td>\n",
       "      <td>US</td>\n",
       "      <td>0</td>\n",
       "      <td>0</td>\n",
       "      <td>00:00:00</td>\n",
       "      <td>1</td>\n",
       "    </tr>\n",
       "    <tr>\n",
       "      <th>4</th>\n",
       "      <td>fd27b86c-7144-11e5-ba71-058fbc01cf0b</td>\n",
       "      <td>31</td>\n",
       "      <td>7.734254</td>\n",
       "      <td>11137.326111</td>\n",
       "      <td>0.000399</td>\n",
       "      <td>0.575000</td>\n",
       "      <td>232.027627</td>\n",
       "      <td>334119.783333</td>\n",
       "      <td>ce135e14-7144-11e5-ba71-058fbc01cf0b</td>\n",
       "      <td>female</td>\n",
       "      <td>...</td>\n",
       "      <td>2.0</td>\n",
       "      <td>1.0</td>\n",
       "      <td>Raleigh</td>\n",
       "      <td>NC</td>\n",
       "      <td>27606</td>\n",
       "      <td>US</td>\n",
       "      <td>1</td>\n",
       "      <td>0</td>\n",
       "      <td>00:00:00</td>\n",
       "      <td>2</td>\n",
       "    </tr>\n",
       "    <tr>\n",
       "      <th>5</th>\n",
       "      <td>fd27b948-7144-11e5-ba71-058fbc01cf0b</td>\n",
       "      <td>20</td>\n",
       "      <td>0.178587</td>\n",
       "      <td>257.165789</td>\n",
       "      <td>0.003565</td>\n",
       "      <td>5.133333</td>\n",
       "      <td>3.393160</td>\n",
       "      <td>4886.150000</td>\n",
       "      <td>ce13615c-7144-11e5-ba71-058fbc01cf0b</td>\n",
       "      <td>male</td>\n",
       "      <td>...</td>\n",
       "      <td>1.0</td>\n",
       "      <td>1.0</td>\n",
       "      <td>Auburn</td>\n",
       "      <td>WA</td>\n",
       "      <td>98001</td>\n",
       "      <td>US</td>\n",
       "      <td>0</td>\n",
       "      <td>0</td>\n",
       "      <td>00:00:00</td>\n",
       "      <td>1</td>\n",
       "    </tr>\n",
       "    <tr>\n",
       "      <th>6</th>\n",
       "      <td>fd27ba1a-7144-11e5-ba71-058fbc01cf0b</td>\n",
       "      <td>27</td>\n",
       "      <td>6.190590</td>\n",
       "      <td>8914.449359</td>\n",
       "      <td>0.000336</td>\n",
       "      <td>0.483333</td>\n",
       "      <td>160.955336</td>\n",
       "      <td>231775.683333</td>\n",
       "      <td>ce135e14-7144-11e5-ba71-058fbc01cf0b</td>\n",
       "      <td>male</td>\n",
       "      <td>...</td>\n",
       "      <td>2.0</td>\n",
       "      <td>1.0</td>\n",
       "      <td>Raleigh</td>\n",
       "      <td>NC</td>\n",
       "      <td>27606</td>\n",
       "      <td>US</td>\n",
       "      <td>1</td>\n",
       "      <td>0</td>\n",
       "      <td>00:00:00</td>\n",
       "      <td>2</td>\n",
       "    </tr>\n",
       "  </tbody>\n",
       "</table>\n",
       "<p>5 rows × 30 columns</p>\n",
       "</div>"
      ],
      "text/plain": [
       "                                 Dog ID  Total Tests Completed  \\\n",
       "0  fd27b272-7144-11e5-ba71-058fbc01cf0b                     21   \n",
       "1  fd27b5ba-7144-11e5-ba71-058fbc01cf0b                     20   \n",
       "4  fd27b86c-7144-11e5-ba71-058fbc01cf0b                     31   \n",
       "5  fd27b948-7144-11e5-ba71-058fbc01cf0b                     20   \n",
       "6  fd27ba1a-7144-11e5-ba71-058fbc01cf0b                     27   \n",
       "\n",
       "   Mean ITI (days)  Mean ITI (minutes)  Median ITI (days)  \\\n",
       "0        28.201076        40609.549167           0.004687   \n",
       "1         0.413307          595.162281           0.005845   \n",
       "4         7.734254        11137.326111           0.000399   \n",
       "5         0.178587          257.165789           0.003565   \n",
       "6         6.190590         8914.449359           0.000336   \n",
       "\n",
       "   Median ITI (minutes)  Time diff between first and last game (days)  \\\n",
       "0              6.750000                                    564.021516   \n",
       "1              8.416667                                      7.852836   \n",
       "4              0.575000                                    232.027627   \n",
       "5              5.133333                                      3.393160   \n",
       "6              0.483333                                    160.955336   \n",
       "\n",
       "   Time diff between first and last game (minutes)  \\\n",
       "0                                    812190.983333   \n",
       "1                                     11308.083333   \n",
       "4                                    334119.783333   \n",
       "5                                      4886.150000   \n",
       "6                                    231775.683333   \n",
       "\n",
       "                                User ID  Gender       ...         \\\n",
       "0  ce134e42-7144-11e5-ba71-058fbc01cf0b  female       ...          \n",
       "1  ce1353d8-7144-11e5-ba71-058fbc01cf0b    male       ...          \n",
       "4  ce135e14-7144-11e5-ba71-058fbc01cf0b  female       ...          \n",
       "5  ce13615c-7144-11e5-ba71-058fbc01cf0b    male       ...          \n",
       "6  ce135e14-7144-11e5-ba71-058fbc01cf0b    male       ...          \n",
       "\n",
       "   Membership_ID Subscribed         City State    Zip  Country  Exclude  \\\n",
       "0            2.0        1.0  Grand Forks    ND  58201       US        0   \n",
       "1            1.0        1.0        Barre    MA  01005       US        0   \n",
       "4            2.0        1.0      Raleigh    NC  27606       US        1   \n",
       "5            1.0        1.0       Auburn    WA  98001       US        0   \n",
       "6            2.0        1.0      Raleigh    NC  27606       US        1   \n",
       "\n",
       "  Free_Start_User       Last_Active_At  Membership_Type  \n",
       "0               0  2015-03-12 00:25:00                2  \n",
       "1               0             00:00:00                1  \n",
       "4               0             00:00:00                2  \n",
       "5               0             00:00:00                1  \n",
       "6               0             00:00:00                2  \n",
       "\n",
       "[5 rows x 30 columns]"
      ]
     },
     "execution_count": 8,
     "metadata": {},
     "output_type": "execute_result"
    }
   ],
   "source": [
    "df3=table[table['Total Tests Completed']>19]; #select only rows satisfying certain criteria\n",
    "df3.head()"
   ]
  },
  {
   "cell_type": "code",
   "execution_count": 5,
   "metadata": {
    "collapsed": false
   },
   "outputs": [
    {
     "data": {
      "text/html": [
       "<div>\n",
       "<table border=\"1\" class=\"dataframe\">\n",
       "  <thead>\n",
       "    <tr style=\"text-align: right;\">\n",
       "      <th></th>\n",
       "      <th>Dog ID</th>\n",
       "      <th>Mean ITI (minutes)</th>\n",
       "      <th>Median ITI (minutes)</th>\n",
       "    </tr>\n",
       "  </thead>\n",
       "  <tbody>\n",
       "    <tr>\n",
       "      <th>0</th>\n",
       "      <td>fd27b272-7144-11e5-ba71-058fbc01cf0b</td>\n",
       "      <td>40609.549167</td>\n",
       "      <td>6.750000</td>\n",
       "    </tr>\n",
       "    <tr>\n",
       "      <th>1</th>\n",
       "      <td>fd27b5ba-7144-11e5-ba71-058fbc01cf0b</td>\n",
       "      <td>595.162281</td>\n",
       "      <td>8.416667</td>\n",
       "    </tr>\n",
       "    <tr>\n",
       "      <th>2</th>\n",
       "      <td>fd27b6b4-7144-11e5-ba71-058fbc01cf0b</td>\n",
       "      <td>13.150000</td>\n",
       "      <td>13.150000</td>\n",
       "    </tr>\n",
       "    <tr>\n",
       "      <th>3</th>\n",
       "      <td>fd27b79a-7144-11e5-ba71-058fbc01cf0b</td>\n",
       "      <td>80805.858333</td>\n",
       "      <td>6.383333</td>\n",
       "    </tr>\n",
       "    <tr>\n",
       "      <th>4</th>\n",
       "      <td>fd27b86c-7144-11e5-ba71-058fbc01cf0b</td>\n",
       "      <td>11137.326111</td>\n",
       "      <td>0.575000</td>\n",
       "    </tr>\n",
       "  </tbody>\n",
       "</table>\n",
       "</div>"
      ],
      "text/plain": [
       "                                 Dog ID  Mean ITI (minutes)  \\\n",
       "0  fd27b272-7144-11e5-ba71-058fbc01cf0b        40609.549167   \n",
       "1  fd27b5ba-7144-11e5-ba71-058fbc01cf0b          595.162281   \n",
       "2  fd27b6b4-7144-11e5-ba71-058fbc01cf0b           13.150000   \n",
       "3  fd27b79a-7144-11e5-ba71-058fbc01cf0b        80805.858333   \n",
       "4  fd27b86c-7144-11e5-ba71-058fbc01cf0b        11137.326111   \n",
       "\n",
       "   Median ITI (minutes)  \n",
       "0              6.750000  \n",
       "1              8.416667  \n",
       "2             13.150000  \n",
       "3              6.383333  \n",
       "4              0.575000  "
      ]
     },
     "execution_count": 5,
     "metadata": {},
     "output_type": "execute_result"
    }
   ],
   "source": [
    "df4=table[['Dog ID', 'Mean ITI (minutes)', 'Median ITI (minutes)']]; #pull out only certain column\n",
    "df4.head()"
   ]
  },
  {
   "cell_type": "code",
   "execution_count": 10,
   "metadata": {
    "collapsed": false
   },
   "outputs": [
    {
     "name": "stderr",
     "output_type": "stream",
     "text": [
      "C:\\Users\\Olga and Jean\\Anaconda2\\lib\\site-packages\\ipykernel\\__main__.py:1: SettingWithCopyWarning: \n",
      "A value is trying to be set on a copy of a slice from a DataFrame.\n",
      "Try using .loc[row_indexer,col_indexer] = value instead\n",
      "\n",
      "See the caveats in the documentation: http://pandas.pydata.org/pandas-docs/stable/indexing.html#indexing-view-versus-copy\n",
      "  if __name__ == '__main__':\n"
     ]
    },
    {
     "data": {
      "text/html": [
       "<div>\n",
       "<table border=\"1\" class=\"dataframe\">\n",
       "  <thead>\n",
       "    <tr style=\"text-align: right;\">\n",
       "      <th></th>\n",
       "      <th>Dog ID</th>\n",
       "      <th>Mean ITI (minutes)</th>\n",
       "      <th>Median ITI (minutes)</th>\n",
       "      <th>Mean-Median</th>\n",
       "    </tr>\n",
       "  </thead>\n",
       "  <tbody>\n",
       "    <tr>\n",
       "      <th>0</th>\n",
       "      <td>fd27b272-7144-11e5-ba71-058fbc01cf0b</td>\n",
       "      <td>40609.549167</td>\n",
       "      <td>6.750000</td>\n",
       "      <td>40602.799167</td>\n",
       "    </tr>\n",
       "    <tr>\n",
       "      <th>1</th>\n",
       "      <td>fd27b5ba-7144-11e5-ba71-058fbc01cf0b</td>\n",
       "      <td>595.162281</td>\n",
       "      <td>8.416667</td>\n",
       "      <td>586.745614</td>\n",
       "    </tr>\n",
       "    <tr>\n",
       "      <th>2</th>\n",
       "      <td>fd27b6b4-7144-11e5-ba71-058fbc01cf0b</td>\n",
       "      <td>13.150000</td>\n",
       "      <td>13.150000</td>\n",
       "      <td>0.000000</td>\n",
       "    </tr>\n",
       "    <tr>\n",
       "      <th>3</th>\n",
       "      <td>fd27b79a-7144-11e5-ba71-058fbc01cf0b</td>\n",
       "      <td>80805.858333</td>\n",
       "      <td>6.383333</td>\n",
       "      <td>80799.475000</td>\n",
       "    </tr>\n",
       "    <tr>\n",
       "      <th>4</th>\n",
       "      <td>fd27b86c-7144-11e5-ba71-058fbc01cf0b</td>\n",
       "      <td>11137.326111</td>\n",
       "      <td>0.575000</td>\n",
       "      <td>11136.751111</td>\n",
       "    </tr>\n",
       "  </tbody>\n",
       "</table>\n",
       "</div>"
      ],
      "text/plain": [
       "                                 Dog ID  Mean ITI (minutes)  \\\n",
       "0  fd27b272-7144-11e5-ba71-058fbc01cf0b        40609.549167   \n",
       "1  fd27b5ba-7144-11e5-ba71-058fbc01cf0b          595.162281   \n",
       "2  fd27b6b4-7144-11e5-ba71-058fbc01cf0b           13.150000   \n",
       "3  fd27b79a-7144-11e5-ba71-058fbc01cf0b        80805.858333   \n",
       "4  fd27b86c-7144-11e5-ba71-058fbc01cf0b        11137.326111   \n",
       "\n",
       "   Median ITI (minutes)   Mean-Median  \n",
       "0              6.750000  40602.799167  \n",
       "1              8.416667    586.745614  \n",
       "2             13.150000      0.000000  \n",
       "3              6.383333  80799.475000  \n",
       "4              0.575000  11136.751111  "
      ]
     },
     "execution_count": 10,
     "metadata": {},
     "output_type": "execute_result"
    }
   ],
   "source": [
    "df4['Mean-Median']=df4['Mean ITI (minutes)']-df4['Median ITI (minutes)'];# assigning a new column with a name \n",
    "df4.head()"
   ]
  },
  {
   "cell_type": "code",
   "execution_count": 11,
   "metadata": {
    "collapsed": false
   },
   "outputs": [
    {
     "name": "stderr",
     "output_type": "stream",
     "text": [
      "C:\\Users\\Olga and Jean\\Anaconda2\\lib\\site-packages\\ipykernel\\__main__.py:1: SettingWithCopyWarning: \n",
      "A value is trying to be set on a copy of a slice from a DataFrame.\n",
      "Try using .loc[row_indexer,col_indexer] = value instead\n",
      "\n",
      "See the caveats in the documentation: http://pandas.pydata.org/pandas-docs/stable/indexing.html#indexing-view-versus-copy\n",
      "  if __name__ == '__main__':\n"
     ]
    },
    {
     "data": {
      "text/html": [
       "<div>\n",
       "<table border=\"1\" class=\"dataframe\">\n",
       "  <thead>\n",
       "    <tr style=\"text-align: right;\">\n",
       "      <th></th>\n",
       "      <th>Dog ID</th>\n",
       "      <th>Mean ITI (minutes)</th>\n",
       "      <th>Median ITI (minutes)</th>\n",
       "      <th>Mean-Median</th>\n",
       "      <th>Difference</th>\n",
       "    </tr>\n",
       "  </thead>\n",
       "  <tbody>\n",
       "    <tr>\n",
       "      <th>0</th>\n",
       "      <td>fd27b272-7144-11e5-ba71-058fbc01cf0b</td>\n",
       "      <td>40609.549167</td>\n",
       "      <td>6.750000</td>\n",
       "      <td>40602.799167</td>\n",
       "      <td>NaN</td>\n",
       "    </tr>\n",
       "    <tr>\n",
       "      <th>1</th>\n",
       "      <td>fd27b5ba-7144-11e5-ba71-058fbc01cf0b</td>\n",
       "      <td>595.162281</td>\n",
       "      <td>8.416667</td>\n",
       "      <td>586.745614</td>\n",
       "      <td>-40014.386886</td>\n",
       "    </tr>\n",
       "    <tr>\n",
       "      <th>2</th>\n",
       "      <td>fd27b6b4-7144-11e5-ba71-058fbc01cf0b</td>\n",
       "      <td>13.150000</td>\n",
       "      <td>13.150000</td>\n",
       "      <td>0.000000</td>\n",
       "      <td>-582.012281</td>\n",
       "    </tr>\n",
       "    <tr>\n",
       "      <th>3</th>\n",
       "      <td>fd27b79a-7144-11e5-ba71-058fbc01cf0b</td>\n",
       "      <td>80805.858333</td>\n",
       "      <td>6.383333</td>\n",
       "      <td>80799.475000</td>\n",
       "      <td>80792.708333</td>\n",
       "    </tr>\n",
       "    <tr>\n",
       "      <th>4</th>\n",
       "      <td>fd27b86c-7144-11e5-ba71-058fbc01cf0b</td>\n",
       "      <td>11137.326111</td>\n",
       "      <td>0.575000</td>\n",
       "      <td>11136.751111</td>\n",
       "      <td>-69668.532222</td>\n",
       "    </tr>\n",
       "  </tbody>\n",
       "</table>\n",
       "</div>"
      ],
      "text/plain": [
       "                                 Dog ID  Mean ITI (minutes)  \\\n",
       "0  fd27b272-7144-11e5-ba71-058fbc01cf0b        40609.549167   \n",
       "1  fd27b5ba-7144-11e5-ba71-058fbc01cf0b          595.162281   \n",
       "2  fd27b6b4-7144-11e5-ba71-058fbc01cf0b           13.150000   \n",
       "3  fd27b79a-7144-11e5-ba71-058fbc01cf0b        80805.858333   \n",
       "4  fd27b86c-7144-11e5-ba71-058fbc01cf0b        11137.326111   \n",
       "\n",
       "   Median ITI (minutes)   Mean-Median    Difference  \n",
       "0              6.750000  40602.799167           NaN  \n",
       "1              8.416667    586.745614 -40014.386886  \n",
       "2             13.150000      0.000000   -582.012281  \n",
       "3              6.383333  80799.475000  80792.708333  \n",
       "4              0.575000  11136.751111 -69668.532222  "
      ]
     },
     "execution_count": 11,
     "metadata": {},
     "output_type": "execute_result"
    }
   ],
   "source": [
    "df4['Difference']=df4['Mean ITI (minutes)'].diff(); #dif from the previous row\n",
    "df4.head()"
   ]
  },
  {
   "cell_type": "code",
   "execution_count": 12,
   "metadata": {
    "collapsed": false
   },
   "outputs": [
    {
     "name": "stderr",
     "output_type": "stream",
     "text": [
      "C:\\Users\\Olga and Jean\\Anaconda2\\lib\\site-packages\\ipykernel\\__main__.py:1: SettingWithCopyWarning: \n",
      "A value is trying to be set on a copy of a slice from a DataFrame.\n",
      "Try using .loc[row_indexer,col_indexer] = value instead\n",
      "\n",
      "See the caveats in the documentation: http://pandas.pydata.org/pandas-docs/stable/indexing.html#indexing-view-versus-copy\n",
      "  if __name__ == '__main__':\n"
     ]
    },
    {
     "data": {
      "text/html": [
       "<div>\n",
       "<table border=\"1\" class=\"dataframe\">\n",
       "  <thead>\n",
       "    <tr style=\"text-align: right;\">\n",
       "      <th></th>\n",
       "      <th>Dog ID</th>\n",
       "      <th>Mean ITI (minutes)</th>\n",
       "      <th>Median ITI (minutes)</th>\n",
       "      <th>Mean-Median</th>\n",
       "      <th>Difference</th>\n",
       "      <th>per_chan</th>\n",
       "    </tr>\n",
       "  </thead>\n",
       "  <tbody>\n",
       "    <tr>\n",
       "      <th>0</th>\n",
       "      <td>fd27b272-7144-11e5-ba71-058fbc01cf0b</td>\n",
       "      <td>40609.549167</td>\n",
       "      <td>6.750000</td>\n",
       "      <td>40602.799167</td>\n",
       "      <td>NaN</td>\n",
       "      <td>-93.250000</td>\n",
       "    </tr>\n",
       "    <tr>\n",
       "      <th>1</th>\n",
       "      <td>fd27b5ba-7144-11e5-ba71-058fbc01cf0b</td>\n",
       "      <td>595.162281</td>\n",
       "      <td>8.416667</td>\n",
       "      <td>586.745614</td>\n",
       "      <td>-40014.386886</td>\n",
       "      <td>-91.583333</td>\n",
       "    </tr>\n",
       "    <tr>\n",
       "      <th>2</th>\n",
       "      <td>fd27b6b4-7144-11e5-ba71-058fbc01cf0b</td>\n",
       "      <td>13.150000</td>\n",
       "      <td>13.150000</td>\n",
       "      <td>0.000000</td>\n",
       "      <td>-582.012281</td>\n",
       "      <td>-86.850000</td>\n",
       "    </tr>\n",
       "    <tr>\n",
       "      <th>3</th>\n",
       "      <td>fd27b79a-7144-11e5-ba71-058fbc01cf0b</td>\n",
       "      <td>80805.858333</td>\n",
       "      <td>6.383333</td>\n",
       "      <td>80799.475000</td>\n",
       "      <td>80792.708333</td>\n",
       "      <td>-93.616667</td>\n",
       "    </tr>\n",
       "    <tr>\n",
       "      <th>4</th>\n",
       "      <td>fd27b86c-7144-11e5-ba71-058fbc01cf0b</td>\n",
       "      <td>11137.326111</td>\n",
       "      <td>0.575000</td>\n",
       "      <td>11136.751111</td>\n",
       "      <td>-69668.532222</td>\n",
       "      <td>-99.425000</td>\n",
       "    </tr>\n",
       "  </tbody>\n",
       "</table>\n",
       "</div>"
      ],
      "text/plain": [
       "                                 Dog ID  Mean ITI (minutes)  \\\n",
       "0  fd27b272-7144-11e5-ba71-058fbc01cf0b        40609.549167   \n",
       "1  fd27b5ba-7144-11e5-ba71-058fbc01cf0b          595.162281   \n",
       "2  fd27b6b4-7144-11e5-ba71-058fbc01cf0b           13.150000   \n",
       "3  fd27b79a-7144-11e5-ba71-058fbc01cf0b        80805.858333   \n",
       "4  fd27b86c-7144-11e5-ba71-058fbc01cf0b        11137.326111   \n",
       "\n",
       "   Median ITI (minutes)   Mean-Median    Difference   per_chan  \n",
       "0              6.750000  40602.799167           NaN -93.250000  \n",
       "1              8.416667    586.745614 -40014.386886 -91.583333  \n",
       "2             13.150000      0.000000   -582.012281 -86.850000  \n",
       "3              6.383333  80799.475000  80792.708333 -93.616667  \n",
       "4              0.575000  11136.751111 -69668.532222 -99.425000  "
      ]
     },
     "execution_count": 12,
     "metadata": {},
     "output_type": "execute_result"
    }
   ],
   "source": [
    "df4['per_chan']=df4['Median ITI (minutes)']-df4['Median ITI (minutes)'][0] / df4['Median ITI (minutes)'][0]*100.0\n",
    "df4.head()"
   ]
  },
  {
   "cell_type": "code",
   "execution_count": 13,
   "metadata": {
    "collapsed": false
   },
   "outputs": [
    {
     "data": {
      "image/png": "[encoded data removed]",
      "text/plain": [
       "<matplotlib.figure.Figure at 0x9b9a160>"
      ]
     },
     "metadata": {},
     "output_type": "display_data"
    }
   ],
   "source": [
    "import matplotlib.pyplot as plt;\n",
    "df4.plot();\n",
    "plt.show()"
   ]
  },
  {
   "cell_type": "code",
   "execution_count": 14,
   "metadata": {
    "collapsed": false
   },
   "outputs": [
    {
     "data": {
      "image/png": "[encoded data removed]",
      "text/plain": [
       "<matplotlib.figure.Figure at 0x9b7d4a8>"
      ]
     },
     "metadata": {},
     "output_type": "display_data"
    }
   ],
   "source": [
    "df4['Median ITI (minutes)'].plot();# pandas also show the name of the axis 'Date'\n",
    "plt.show()"
   ]
  },
  {
   "cell_type": "code",
   "execution_count": 15,
   "metadata": {
    "collapsed": false
   },
   "outputs": [
    {
     "data": {
      "image/png": "[encoded data removed]",
      "text/plain": [
       "<matplotlib.figure.Figure at 0xc194128>"
      ]
     },
     "metadata": {},
     "output_type": "display_data"
    }
   ],
   "source": [
    "df4[['Mean ITI (minutes)', 'Median ITI (minutes)']].plot();# for more columns list of lists\n",
    "plt.show()"
   ]
  },
  {
   "cell_type": "code",
   "execution_count": 16,
   "metadata": {
    "collapsed": true
   },
   "outputs": [],
   "source": [
    "#Plotting Functions in pandas on page 232\n"
   ]
  },
  {
   "cell_type": "code",
   "execution_count": 17,
   "metadata": {
    "collapsed": false
   },
   "outputs": [
    {
     "name": "stderr",
     "output_type": "stream",
     "text": [
      "C:\\Users\\Olga and Jean\\Anaconda2\\lib\\site-packages\\numpy\\lib\\function_base.py:3834: RuntimeWarning: Invalid value encountered in percentile\n",
      "  RuntimeWarning)\n"
     ]
    },
    {
     "data": {
      "text/html": [
       "<div>\n",
       "<table border=\"1\" class=\"dataframe\">\n",
       "  <thead>\n",
       "    <tr style=\"text-align: right;\">\n",
       "      <th></th>\n",
       "      <th>Mean ITI (minutes)</th>\n",
       "      <th>Median ITI (minutes)</th>\n",
       "      <th>Mean-Median</th>\n",
       "      <th>Difference</th>\n",
       "      <th>per_chan</th>\n",
       "    </tr>\n",
       "  </thead>\n",
       "  <tbody>\n",
       "    <tr>\n",
       "      <th>count</th>\n",
       "      <td>16718.000000</td>\n",
       "      <td>16718.000000</td>\n",
       "      <td>16718.000000</td>\n",
       "      <td>15573.000000</td>\n",
       "      <td>16718.000000</td>\n",
       "    </tr>\n",
       "    <tr>\n",
       "      <th>mean</th>\n",
       "      <td>3313.045589</td>\n",
       "      <td>397.420037</td>\n",
       "      <td>2915.625552</td>\n",
       "      <td>-64.747118</td>\n",
       "      <td>297.420037</td>\n",
       "    </tr>\n",
       "    <tr>\n",
       "      <th>std</th>\n",
       "      <td>14569.464530</td>\n",
       "      <td>10342.262528</td>\n",
       "      <td>10337.702164</td>\n",
       "      <td>19389.438432</td>\n",
       "      <td>10342.262528</td>\n",
       "    </tr>\n",
       "    <tr>\n",
       "      <th>min</th>\n",
       "      <td>0.000877</td>\n",
       "      <td>0.000000</td>\n",
       "      <td>-37936.222222</td>\n",
       "      <td>-937370.583333</td>\n",
       "      <td>-100.000000</td>\n",
       "    </tr>\n",
       "    <tr>\n",
       "      <th>25%</th>\n",
       "      <td>NaN</td>\n",
       "      <td>NaN</td>\n",
       "      <td>NaN</td>\n",
       "      <td>NaN</td>\n",
       "      <td>NaN</td>\n",
       "    </tr>\n",
       "    <tr>\n",
       "      <th>50%</th>\n",
       "      <td>NaN</td>\n",
       "      <td>NaN</td>\n",
       "      <td>NaN</td>\n",
       "      <td>NaN</td>\n",
       "      <td>NaN</td>\n",
       "    </tr>\n",
       "    <tr>\n",
       "      <th>75%</th>\n",
       "      <td>NaN</td>\n",
       "      <td>NaN</td>\n",
       "      <td>NaN</td>\n",
       "      <td>NaN</td>\n",
       "      <td>NaN</td>\n",
       "    </tr>\n",
       "    <tr>\n",
       "      <th>max</th>\n",
       "      <td>937377.016667</td>\n",
       "      <td>937377.016667</td>\n",
       "      <td>420952.066667</td>\n",
       "      <td>469255.700000</td>\n",
       "      <td>937277.016667</td>\n",
       "    </tr>\n",
       "  </tbody>\n",
       "</table>\n",
       "</div>"
      ],
      "text/plain": [
       "       Mean ITI (minutes)  Median ITI (minutes)    Mean-Median     Difference  \\\n",
       "count        16718.000000          16718.000000   16718.000000   15573.000000   \n",
       "mean          3313.045589            397.420037    2915.625552     -64.747118   \n",
       "std          14569.464530          10342.262528   10337.702164   19389.438432   \n",
       "min              0.000877              0.000000  -37936.222222 -937370.583333   \n",
       "25%                   NaN                   NaN            NaN            NaN   \n",
       "50%                   NaN                   NaN            NaN            NaN   \n",
       "75%                   NaN                   NaN            NaN            NaN   \n",
       "max         937377.016667         937377.016667  420952.066667  469255.700000   \n",
       "\n",
       "            per_chan  \n",
       "count   16718.000000  \n",
       "mean      297.420037  \n",
       "std     10342.262528  \n",
       "min      -100.000000  \n",
       "25%              NaN  \n",
       "50%              NaN  \n",
       "75%              NaN  \n",
       "max    937277.016667  "
      ]
     },
     "execution_count": 17,
     "metadata": {},
     "output_type": "execute_result"
    }
   ],
   "source": [
    "df4.describe()# Descriptive statistics"
   ]
  },
  {
   "cell_type": "code",
   "execution_count": 21,
   "metadata": {
    "collapsed": false
   },
   "outputs": [
    {
     "data": {
      "text/html": [
       "<div>\n",
       "<table border=\"1\" class=\"dataframe\">\n",
       "  <thead>\n",
       "    <tr style=\"text-align: right;\">\n",
       "      <th></th>\n",
       "      <th>Mean ITI (minutes)</th>\n",
       "      <th>Median ITI (minutes)</th>\n",
       "    </tr>\n",
       "  </thead>\n",
       "  <tbody>\n",
       "    <tr>\n",
       "      <th>0</th>\n",
       "      <td>40609.549167</td>\n",
       "      <td>6.750000</td>\n",
       "    </tr>\n",
       "    <tr>\n",
       "      <th>1</th>\n",
       "      <td>595.162281</td>\n",
       "      <td>8.416667</td>\n",
       "    </tr>\n",
       "    <tr>\n",
       "      <th>2</th>\n",
       "      <td>13.150000</td>\n",
       "      <td>13.150000</td>\n",
       "    </tr>\n",
       "    <tr>\n",
       "      <th>3</th>\n",
       "      <td>80805.858333</td>\n",
       "      <td>6.383333</td>\n",
       "    </tr>\n",
       "    <tr>\n",
       "      <th>4</th>\n",
       "      <td>11137.326111</td>\n",
       "      <td>0.575000</td>\n",
       "    </tr>\n",
       "  </tbody>\n",
       "</table>\n",
       "</div>"
      ],
      "text/plain": [
       "   Mean ITI (minutes)  Median ITI (minutes)\n",
       "0        40609.549167              6.750000\n",
       "1          595.162281              8.416667\n",
       "2           13.150000             13.150000\n",
       "3        80805.858333              6.383333\n",
       "4        11137.326111              0.575000"
      ]
     },
     "execution_count": 21,
     "metadata": {},
     "output_type": "execute_result"
    }
   ],
   "source": [
    "df5=table[['Mean ITI (minutes)', 'Median ITI (minutes)']]; #pull out only certain column\n",
    "df5.head()"
   ]
  },
  {
   "cell_type": "code",
   "execution_count": null,
   "metadata": {
    "collapsed": false
   },
   "outputs": [],
   "source": [
    "df5.plot(kind='bar')"
   ]
  },
  {
   "cell_type": "code",
   "execution_count": null,
   "metadata": {
    "collapsed": true
   },
   "outputs": [],
   "source": []
  },
  {
   "cell_type": "code",
   "execution_count": null,
   "metadata": {
    "collapsed": false
   },
   "outputs": [],
   "source": [
    "plt.plot('Mean ITI (minutes)', cumsum(), 'k--')"
   ]
  },
  {
   "cell_type": "code",
   "execution_count": null,
   "metadata": {
    "collapsed": true
   },
   "outputs": [],
   "source": [
    "ax1.hist(randn(100), bins=20, color='g', alpha=0.3)"
   ]
  },
  {
   "cell_type": "code",
   "execution_count": null,
   "metadata": {
    "collapsed": true
   },
   "outputs": [],
   "source": [
    "ax2.scatter(np.arange(30), np.arange(30)+3*rand(30))"
   ]
  },
  {
   "cell_type": "code",
   "execution_count": null,
   "metadata": {
    "collapsed": true
   },
   "outputs": [],
   "source": []
  },
  {
   "cell_type": "code",
   "execution_count": null,
   "metadata": {
    "collapsed": true
   },
   "outputs": [],
   "source": []
  },
  {
   "cell_type": "code",
   "execution_count": null,
   "metadata": {
    "collapsed": true
   },
   "outputs": [],
   "source": []
  },
  {
   "cell_type": "code",
   "execution_count": null,
   "metadata": {
    "collapsed": true
   },
   "outputs": [],
   "source": []
  },
  {
   "cell_type": "code",
   "execution_count": null,
   "metadata": {
    "collapsed": true
   },
   "outputs": [],
   "source": [
    "xls_file = pd.ExcelFile('SOWC 2014 Stat Tables_Table 9.xlsx')"
   ]
  },
  {
   "cell_type": "code",
   "execution_count": null,
   "metadata": {
    "collapsed": false
   },
   "outputs": [],
   "source": [
    "book = xlrd.open_workbook('week 2_dognition_data_aggregated_by_dogid.xlsx')"
   ]
  },
  {
   "cell_type": "code",
   "execution_count": null,
   "metadata": {
    "collapsed": false
   },
   "outputs": [],
   "source": [
    "sheet = book.sheet_by_name('Table 9 ')"
   ]
  },
  {
   "cell_type": "code",
   "execution_count": null,
   "metadata": {
    "collapsed": false
   },
   "outputs": [],
   "source": [
    "sheet.nrows"
   ]
  },
  {
   "cell_type": "code",
   "execution_count": null,
   "metadata": {
    "collapsed": false
   },
   "outputs": [],
   "source": [
    "for sth in range(sheet.nrows):\n",
    "    print sth # yields 0 to 302"
   ]
  },
  {
   "cell_type": "code",
   "execution_count": null,
   "metadata": {
    "collapsed": false
   },
   "outputs": [],
   "source": [
    "for sth in range(sheet.nrows):\n",
    "    print sheet.row_values(sth)"
   ]
  },
  {
   "cell_type": "code",
   "execution_count": null,
   "metadata": {
    "collapsed": true
   },
   "outputs": [],
   "source": [
    "Table 9 "
   ]
  },
  {
   "cell_type": "code",
   "execution_count": null,
   "metadata": {
    "collapsed": true
   },
   "outputs": [],
   "source": []
  },
  {
   "cell_type": "code",
   "execution_count": null,
   "metadata": {
    "collapsed": true
   },
   "outputs": [],
   "source": []
  },
  {
   "cell_type": "code",
   "execution_count": null,
   "metadata": {
    "collapsed": true
   },
   "outputs": [],
   "source": []
  }
 ],
 "metadata": {
  "anaconda-cloud": {},
  "kernelspec": {
   "display_name": "Python [default]",
   "language": "python",
   "name": "python2"
  },
  "language_info": {
   "codemirror_mode": {
    "name": "ipython",
    "version": 2
   },
   "file_extension": ".py",
   "mimetype": "text/x-python",
   "name": "python",
   "nbconvert_exporter": "python",
   "pygments_lexer": "ipython2",
   "version": "2.7.12"
  }
 },
 "nbformat": 4,
 "nbformat_minor": 1
}

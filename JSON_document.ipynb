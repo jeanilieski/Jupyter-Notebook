{
 "cells": [
  {
   "cell_type": "code",
   "execution_count": 2,
   "metadata": {
    "collapsed": false
   },
   "outputs": [
    {
     "name": "stdout",
     "output_type": "stream",
     "text": [
      "\n"
     ]
    }
   ],
   "source": [
    "# DOCUMENTATION: https://docs.python.org/2/tutorial/inputoutput.html#saving-structured-data-with-json\n",
    "\n",
    "import json ##the ''' is a json string that has to be deserialised\n",
    "\n",
    "data = '''      \n",
    "{\n",
    "  \"name\" : \"Chuck\",\n",
    "  \"phone\" : {\n",
    "    \"type\" : \"intl\",\n",
    "    \"number\" : \"+1 734 303 4456\"\n",
    "   },\n",
    "   \"email\" : {\n",
    "     \"hide\" : \"yes\"\n",
    "   }\n",
    "}'''"
   ]
  },
  {
   "cell_type": "code",
   "execution_count": 3,
   "metadata": {
    "collapsed": false
   },
   "outputs": [
    {
     "data": {
      "text/plain": [
       "{u'email': {u'hide': u'yes'},\n",
       " u'name': u'Chuck',\n",
       " u'phone': {u'number': u'+1 734 303 4456', u'type': u'intl'}}"
      ]
     },
     "execution_count": 3,
     "metadata": {},
     "output_type": "execute_result"
    }
   ],
   "source": [
    "info=json.loads(data) #this is the turning of string into dictionary\n",
    "                        #or known as deserialisation\n",
    "info"
   ]
  },
  {
   "cell_type": "code",
   "execution_count": 5,
   "metadata": {
    "collapsed": false
   },
   "outputs": [
    {
     "data": {
      "text/plain": [
       "u'Chuck'"
      ]
     },
     "execution_count": 5,
     "metadata": {},
     "output_type": "execute_result"
    }
   ],
   "source": [
    "info['name']"
   ]
  },
  {
   "cell_type": "code",
   "execution_count": 6,
   "metadata": {
    "collapsed": false
   },
   "outputs": [
    {
     "name": "stdout",
     "output_type": "stream",
     "text": [
      "Name Chuck\n"
     ]
    }
   ],
   "source": [
    "print 'Name', info['name']"
   ]
  },
  {
   "cell_type": "code",
   "execution_count": 7,
   "metadata": {
    "collapsed": false
   },
   "outputs": [
    {
     "name": "stdout",
     "output_type": "stream",
     "text": [
      "Number {u'type': u'intl', u'number': u'+1 734 303 4456'}\n"
     ]
    }
   ],
   "source": [
    "print 'Number', info ['phone']"
   ]
  },
  {
   "cell_type": "code",
   "execution_count": 6,
   "metadata": {
    "collapsed": false
   },
   "outputs": [
    {
     "name": "stdout",
     "output_type": "stream",
     "text": [
      "Number +1 734 303 4456\n"
     ]
    }
   ],
   "source": [
    "print 'Number', info['phone']['number']"
   ]
  },
  {
   "cell_type": "code",
   "execution_count": 8,
   "metadata": {
    "collapsed": true
   },
   "outputs": [],
   "source": [
    "#a list with two dictionaries\n",
    "\n",
    "input = ''' \n",
    "[\n",
    "  { \"id\" : \"001\",\n",
    "    \"x\" : \"2\",\n",
    "    \"name\" : \"Chuck\"\n",
    "  } ,\n",
    "  { \"id\" : \"009\",\n",
    "    \"x\" : \"7\",\n",
    "    \"name\" : \"Kruck\"\n",
    "    } \n",
    "]'''"
   ]
  },
  {
   "cell_type": "code",
   "execution_count": 9,
   "metadata": {
    "collapsed": false
   },
   "outputs": [],
   "source": [
    "info=json.loads(input)"
   ]
  },
  {
   "cell_type": "code",
   "execution_count": 10,
   "metadata": {
    "collapsed": false
   },
   "outputs": [
    {
     "data": {
      "text/plain": [
       "2"
      ]
     },
     "execution_count": 10,
     "metadata": {},
     "output_type": "execute_result"
    }
   ],
   "source": [
    "len(info)"
   ]
  },
  {
   "cell_type": "code",
   "execution_count": 11,
   "metadata": {
    "collapsed": false
   },
   "outputs": [
    {
     "name": "stdout",
     "output_type": "stream",
     "text": [
      "Name Chuck\n",
      "Name Kruck\n"
     ]
    }
   ],
   "source": [
    "for i in info:\n",
    "    print 'Name', i['name']\n",
    "    \n",
    "# enters both dict to find the vals    "
   ]
  },
  {
   "cell_type": "code",
   "execution_count": 12,
   "metadata": {
    "collapsed": true
   },
   "outputs": [],
   "source": [
    "# this is a clean json doc with list of dicts, easy to iterate and analyse:\n",
    "\n",
    "j_data=open('data-text.json').read()"
   ]
  },
  {
   "cell_type": "code",
   "execution_count": 13,
   "metadata": {
    "collapsed": true
   },
   "outputs": [],
   "source": [
    "data=json.loads(j_data)"
   ]
  },
  {
   "cell_type": "code",
   "execution_count": null,
   "metadata": {
    "collapsed": false
   },
   "outputs": [],
   "source": [
    "for s in data:\n",
    "    for k,v in s.items():\n",
    "        print k #World Bank income group, Sex, Display Value, WHO region, Country"
   ]
  },
  {
   "cell_type": "code",
   "execution_count": 15,
   "metadata": {
    "collapsed": true
   },
   "outputs": [],
   "source": [
    "fields=['World Bank income group', 'Sex', 'Display Value', 'WHO region', 'Country']"
   ]
  },
  {
   "cell_type": "code",
   "execution_count": 17,
   "metadata": {
    "collapsed": true
   },
   "outputs": [],
   "source": [
    "from pandas import DataFrame"
   ]
  },
  {
   "cell_type": "code",
   "execution_count": 22,
   "metadata": {
    "collapsed": false
   },
   "outputs": [
    {
     "data": {
      "text/html": [
       "<div>\n",
       "<table border=\"1\" class=\"dataframe\">\n",
       "  <thead>\n",
       "    <tr style=\"text-align: right;\">\n",
       "      <th></th>\n",
       "      <th>Comments</th>\n",
       "      <th>Country</th>\n",
       "      <th>Display Value</th>\n",
       "      <th>High</th>\n",
       "      <th>Indicator</th>\n",
       "      <th>Low</th>\n",
       "      <th>Numeric</th>\n",
       "      <th>PUBLISH STATES</th>\n",
       "      <th>Sex</th>\n",
       "      <th>WHO region</th>\n",
       "      <th>World Bank income group</th>\n",
       "      <th>Year</th>\n",
       "    </tr>\n",
       "  </thead>\n",
       "  <tbody>\n",
       "    <tr>\n",
       "      <th>0</th>\n",
       "      <td></td>\n",
       "      <td>Andorra</td>\n",
       "      <td>77</td>\n",
       "      <td></td>\n",
       "      <td>Life expectancy at birth (years)</td>\n",
       "      <td></td>\n",
       "      <td>77.0</td>\n",
       "      <td>Published</td>\n",
       "      <td>Both sexes</td>\n",
       "      <td>Europe</td>\n",
       "      <td>High-income</td>\n",
       "      <td>1990</td>\n",
       "    </tr>\n",
       "    <tr>\n",
       "      <th>1</th>\n",
       "      <td></td>\n",
       "      <td>Andorra</td>\n",
       "      <td>80</td>\n",
       "      <td></td>\n",
       "      <td>Life expectancy at birth (years)</td>\n",
       "      <td></td>\n",
       "      <td>80.0</td>\n",
       "      <td>Published</td>\n",
       "      <td>Both sexes</td>\n",
       "      <td>Europe</td>\n",
       "      <td>High-income</td>\n",
       "      <td>2000</td>\n",
       "    </tr>\n",
       "    <tr>\n",
       "      <th>2</th>\n",
       "      <td></td>\n",
       "      <td>Andorra</td>\n",
       "      <td>28</td>\n",
       "      <td></td>\n",
       "      <td>Life expectancy at age 60 (years)</td>\n",
       "      <td></td>\n",
       "      <td>28.0</td>\n",
       "      <td>Published</td>\n",
       "      <td>Female</td>\n",
       "      <td>Europe</td>\n",
       "      <td>High-income</td>\n",
       "      <td>2012</td>\n",
       "    </tr>\n",
       "    <tr>\n",
       "      <th>3</th>\n",
       "      <td></td>\n",
       "      <td>Andorra</td>\n",
       "      <td>23</td>\n",
       "      <td></td>\n",
       "      <td>Life expectancy at age 60 (years)</td>\n",
       "      <td></td>\n",
       "      <td>23.0</td>\n",
       "      <td>Published</td>\n",
       "      <td>Both sexes</td>\n",
       "      <td>Europe</td>\n",
       "      <td>High-income</td>\n",
       "      <td>2000</td>\n",
       "    </tr>\n",
       "    <tr>\n",
       "      <th>4</th>\n",
       "      <td></td>\n",
       "      <td>United Arab Emirates</td>\n",
       "      <td>78</td>\n",
       "      <td></td>\n",
       "      <td>Life expectancy at birth (years)</td>\n",
       "      <td></td>\n",
       "      <td>78.0</td>\n",
       "      <td>Published</td>\n",
       "      <td>Female</td>\n",
       "      <td>Eastern Mediterranean</td>\n",
       "      <td>High-income</td>\n",
       "      <td>2012</td>\n",
       "    </tr>\n",
       "  </tbody>\n",
       "</table>\n",
       "</div>"
      ],
      "text/plain": [
       "  Comments               Country  Display Value High  \\\n",
       "0                        Andorra             77        \n",
       "1                        Andorra             80        \n",
       "2                        Andorra             28        \n",
       "3                        Andorra             23        \n",
       "4           United Arab Emirates             78        \n",
       "\n",
       "                           Indicator Low  Numeric PUBLISH STATES         Sex  \\\n",
       "0   Life expectancy at birth (years)         77.0      Published  Both sexes   \n",
       "1   Life expectancy at birth (years)         80.0      Published  Both sexes   \n",
       "2  Life expectancy at age 60 (years)         28.0      Published      Female   \n",
       "3  Life expectancy at age 60 (years)         23.0      Published  Both sexes   \n",
       "4   Life expectancy at birth (years)         78.0      Published      Female   \n",
       "\n",
       "              WHO region World Bank income group  Year  \n",
       "0                 Europe             High-income  1990  \n",
       "1                 Europe             High-income  2000  \n",
       "2                 Europe             High-income  2012  \n",
       "3                 Europe             High-income  2000  \n",
       "4  Eastern Mediterranean             High-income  2012  "
      ]
     },
     "execution_count": 22,
     "metadata": {},
     "output_type": "execute_result"
    }
   ],
   "source": [
    "df=DataFrame(data)\n",
    "df.head()"
   ]
  },
  {
   "cell_type": "code",
   "execution_count": 27,
   "metadata": {
    "collapsed": false
   },
   "outputs": [
    {
     "data": {
      "text/html": [
       "<div>\n",
       "<table border=\"1\" class=\"dataframe\">\n",
       "  <thead>\n",
       "    <tr style=\"text-align: right;\">\n",
       "      <th></th>\n",
       "      <th>World Bank income group</th>\n",
       "      <th>Sex</th>\n",
       "      <th>Display Value</th>\n",
       "      <th>WHO region</th>\n",
       "      <th>Country</th>\n",
       "    </tr>\n",
       "  </thead>\n",
       "  <tbody>\n",
       "    <tr>\n",
       "      <th>0</th>\n",
       "      <td>High-income</td>\n",
       "      <td>Both sexes</td>\n",
       "      <td>77</td>\n",
       "      <td>Europe</td>\n",
       "      <td>Andorra</td>\n",
       "    </tr>\n",
       "    <tr>\n",
       "      <th>1</th>\n",
       "      <td>High-income</td>\n",
       "      <td>Both sexes</td>\n",
       "      <td>80</td>\n",
       "      <td>Europe</td>\n",
       "      <td>Andorra</td>\n",
       "    </tr>\n",
       "    <tr>\n",
       "      <th>2</th>\n",
       "      <td>High-income</td>\n",
       "      <td>Female</td>\n",
       "      <td>28</td>\n",
       "      <td>Europe</td>\n",
       "      <td>Andorra</td>\n",
       "    </tr>\n",
       "    <tr>\n",
       "      <th>3</th>\n",
       "      <td>High-income</td>\n",
       "      <td>Both sexes</td>\n",
       "      <td>23</td>\n",
       "      <td>Europe</td>\n",
       "      <td>Andorra</td>\n",
       "    </tr>\n",
       "    <tr>\n",
       "      <th>4</th>\n",
       "      <td>High-income</td>\n",
       "      <td>Female</td>\n",
       "      <td>78</td>\n",
       "      <td>Eastern Mediterranean</td>\n",
       "      <td>United Arab Emirates</td>\n",
       "    </tr>\n",
       "  </tbody>\n",
       "</table>\n",
       "</div>"
      ],
      "text/plain": [
       "  World Bank income group         Sex  Display Value             WHO region  \\\n",
       "0             High-income  Both sexes             77                 Europe   \n",
       "1             High-income  Both sexes             80                 Europe   \n",
       "2             High-income      Female             28                 Europe   \n",
       "3             High-income  Both sexes             23                 Europe   \n",
       "4             High-income      Female             78  Eastern Mediterranean   \n",
       "\n",
       "                Country  \n",
       "0               Andorra  \n",
       "1               Andorra  \n",
       "2               Andorra  \n",
       "3               Andorra  \n",
       "4  United Arab Emirates  "
      ]
     },
     "execution_count": 27,
     "metadata": {},
     "output_type": "execute_result"
    }
   ],
   "source": [
    "df=DataFrame(data, columns=fields)\n",
    "df.head()"
   ]
  },
  {
   "cell_type": "code",
   "execution_count": null,
   "metadata": {
    "collapsed": true
   },
   "outputs": [],
   "source": []
  },
  {
   "cell_type": "code",
   "execution_count": null,
   "metadata": {
    "collapsed": true
   },
   "outputs": [],
   "source": []
  },
  {
   "cell_type": "code",
   "execution_count": null,
   "metadata": {
    "collapsed": true
   },
   "outputs": [],
   "source": []
  },
  {
   "cell_type": "code",
   "execution_count": null,
   "metadata": {
    "collapsed": true
   },
   "outputs": [],
   "source": []
  },
  {
   "cell_type": "code",
   "execution_count": null,
   "metadata": {
    "collapsed": true
   },
   "outputs": [],
   "source": []
  },
  {
   "cell_type": "code",
   "execution_count": null,
   "metadata": {
    "collapsed": true
   },
   "outputs": [],
   "source": []
  },
  {
   "cell_type": "code",
   "execution_count": null,
   "metadata": {
    "collapsed": true
   },
   "outputs": [],
   "source": []
  },
  {
   "cell_type": "code",
   "execution_count": null,
   "metadata": {
    "collapsed": true
   },
   "outputs": [],
   "source": []
  },
  {
   "cell_type": "code",
   "execution_count": null,
   "metadata": {
    "collapsed": true
   },
   "outputs": [],
   "source": []
  },
  {
   "cell_type": "code",
   "execution_count": null,
   "metadata": {
    "collapsed": true
   },
   "outputs": [],
   "source": []
  },
  {
   "cell_type": "code",
   "execution_count": null,
   "metadata": {
    "collapsed": true
   },
   "outputs": [],
   "source": []
  },
  {
   "cell_type": "code",
   "execution_count": null,
   "metadata": {
    "collapsed": true
   },
   "outputs": [],
   "source": []
  },
  {
   "cell_type": "code",
   "execution_count": null,
   "metadata": {
    "collapsed": true
   },
   "outputs": [],
   "source": []
  },
  {
   "cell_type": "code",
   "execution_count": null,
   "metadata": {
    "collapsed": true
   },
   "outputs": [],
   "source": []
  },
  {
   "cell_type": "code",
   "execution_count": null,
   "metadata": {
    "collapsed": true
   },
   "outputs": [],
   "source": []
  },
  {
   "cell_type": "code",
   "execution_count": null,
   "metadata": {
    "collapsed": true
   },
   "outputs": [],
   "source": []
  },
  {
   "cell_type": "code",
   "execution_count": null,
   "metadata": {
    "collapsed": true
   },
   "outputs": [],
   "source": []
  }
 ],
 "metadata": {
  "kernelspec": {
   "display_name": "Python [default]",
   "language": "python",
   "name": "python2"
  },
  "language_info": {
   "codemirror_mode": {
    "name": "ipython",
    "version": 2
   },
   "file_extension": ".py",
   "mimetype": "text/x-python",
   "name": "python",
   "nbconvert_exporter": "python",
   "pygments_lexer": "ipython2",
   "version": "2.7.12"
  }
 },
 "nbformat": 4,
 "nbformat_minor": 1
}

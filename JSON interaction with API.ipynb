{
 "cells": [
  {
   "cell_type": "code",
   "execution_count": 1,
   "metadata": {
    "collapsed": true
   },
   "outputs": [],
   "source": [
    "%gui qt #IPython integrates itself with the Qt event loop, \n",
    "#so you can use both a GUI and an interactive prompt together."
   ]
  },
  {
   "cell_type": "code",
   "execution_count": 8,
   "metadata": {
    "collapsed": true
   },
   "outputs": [],
   "source": [
    "import urllib\n",
    "import json\n",
    "import requests\n",
    "from pandas import DataFrame\n",
    "import matplotlib.pyplot as plt"
   ]
  },
  {
   "cell_type": "code",
   "execution_count": 18,
   "metadata": {
    "collapsed": true
   },
   "outputs": [],
   "source": [
    "chunk_size = 2 #20#arbitrarily chosen, suitable for readability and clarity\n",
    "total = 20 #2099\n",
    "\n",
    "\n",
    "url_template = 'https://fertighaus.de/-/houses?format=json&limit=20&page='\n",
    "#pegination"
   ]
  },
  {
   "cell_type": "code",
   "execution_count": 19,
   "metadata": {
    "collapsed": false
   },
   "outputs": [
    {
     "name": "stdout",
     "output_type": "stream",
     "text": [
      "https://fertighaus.de/-/houses?format=json&limit=20&page=0\n",
      "https://fertighaus.de/-/houses?format=json&limit=20&page=1\n",
      "https://fertighaus.de/-/houses?format=json&limit=20&page=2\n",
      "https://fertighaus.de/-/houses?format=json&limit=20&page=3\n",
      "https://fertighaus.de/-/houses?format=json&limit=20&page=4\n",
      "https://fertighaus.de/-/houses?format=json&limit=20&page=5\n",
      "https://fertighaus.de/-/houses?format=json&limit=20&page=6\n",
      "https://fertighaus.de/-/houses?format=json&limit=20&page=7\n",
      "https://fertighaus.de/-/houses?format=json&limit=20&page=8\n",
      "https://fertighaus.de/-/houses?format=json&limit=20&page=9\n",
      "https://fertighaus.de/-/houses?format=json&limit=20&page=10\n",
      "220\n"
     ]
    }
   ],
   "source": [
    "big_list=[]\n",
    "for i in range(int(total/chunk_size) + 1):  #integer (number with no decimals)\n",
    "    url = url_template + str(i)   # string method\n",
    "    print url\n",
    "    resp = requests.get(url)\n",
    "    data=json.loads(resp.text)\n",
    "    big_list.extend(data['results'])   #append [1, 2, 3, [4, 5]]/extend [1, 2, 3, 4, 5]\n",
    "print len(big_list)"
   ]
  },
  {
   "cell_type": "code",
   "execution_count": 20,
   "metadata": {
    "collapsed": true
   },
   "outputs": [],
   "source": [
    "with open('all_flats.json', 'w') as file1:#opens a document and writes into json format\n",
    "    json.dump(big_list, file1)#LOAD data for i-page and add to a big list\n",
    "                    # dump(), simply serializes the object to a file.\n",
    "\n",
    "# https://fertighaus.de/-/houses?format=json&limit=20&page=0 to\n",
    "# https://fertighaus.de/-/houses?format=json&limit=20&page=104\n",
    "# 1705"
   ]
  },
  {
   "cell_type": "code",
   "execution_count": 21,
   "metadata": {
    "collapsed": true
   },
   "outputs": [],
   "source": [
    "with open('all_flats.json', 'r') as file2:\n",
    "    data = json.load(file2)"
   ]
  },
  {
   "cell_type": "code",
   "execution_count": 22,
   "metadata": {
    "collapsed": true
   },
   "outputs": [],
   "source": [
    "def to_df_row(item):\n",
    "    row = {\n",
    "        'price_ready': item['price_ready'],\n",
    "        'price_fitting': item['price_fitting'],\n",
    "        'price_lego': item['price_lego']\n",
    "    }\n",
    "\n",
    "    for feature in item['features_verbose']:\n",
    "        row[feature['name']] = 1 #we can use id or name. 1 is value or 'yes',\n",
    "                                #the other value is 'NaN' of the dummy\n",
    "\n",
    "    return row"
   ]
  },
  {
   "cell_type": "code",
   "execution_count": null,
   "metadata": {
    "collapsed": false
   },
   "outputs": [],
   "source": [
    "df = DataFrame([to_df_row(x) for x in data]);\n",
    "df1=df.fillna(0)#change the NaN with 0, because the corr() would not work\n",
    "                #without two valid values"
   ]
  },
  {
   "cell_type": "code",
   "execution_count": null,
   "metadata": {
    "collapsed": true
   },
   "outputs": [],
   "source": [
    "print df1.head(20)\n",
    "df2=df1.corr()\n",
    "print df2"
   ]
  },
  {
   "cell_type": "code",
   "execution_count": null,
   "metadata": {
    "collapsed": true
   },
   "outputs": [],
   "source": [
    "#df2.to_csv('out.csv')\n",
    "#df.to_csv(file_name, sep='\\t')\n",
    "\n",
    "# plotting the correlation matrix\n",
    "#R = corrcoef(df1)\n",
    "#pcolor(R)\n",
    "#colorbar()\n",
    "#yticks(arange(0.5,10.5),range(0,10))\n",
    "#xticks(arange(0.5,10.5),range(0,10))\n",
    "#show()"
   ]
  },
  {
   "cell_type": "code",
   "execution_count": null,
   "metadata": {
    "collapsed": true
   },
   "outputs": [],
   "source": [
    "data['results']\n"
   ]
  },
  {
   "cell_type": "code",
   "execution_count": null,
   "metadata": {
    "collapsed": true
   },
   "outputs": [],
   "source": [
    "fields=['price_ready', 'price_lego', 'price_fitting', 'feature_verbose']"
   ]
  },
  {
   "cell_type": "code",
   "execution_count": null,
   "metadata": {
    "collapsed": true
   },
   "outputs": [],
   "source": [
    "df = DataFrame(data['results'], columns=fields)"
   ]
  },
  {
   "cell_type": "code",
   "execution_count": null,
   "metadata": {
    "collapsed": true
   },
   "outputs": [],
   "source": [
    "df"
   ]
  },
  {
   "cell_type": "code",
   "execution_count": null,
   "metadata": {
    "collapsed": true
   },
   "outputs": [],
   "source": []
  },
  {
   "cell_type": "code",
   "execution_count": null,
   "metadata": {
    "collapsed": true
   },
   "outputs": [],
   "source": []
  },
  {
   "cell_type": "code",
   "execution_count": null,
   "metadata": {
    "collapsed": true
   },
   "outputs": [],
   "source": []
  },
  {
   "cell_type": "code",
   "execution_count": null,
   "metadata": {
    "collapsed": true
   },
   "outputs": [],
   "source": []
  },
  {
   "cell_type": "code",
   "execution_count": null,
   "metadata": {
    "collapsed": true
   },
   "outputs": [],
   "source": []
  },
  {
   "cell_type": "code",
   "execution_count": null,
   "metadata": {
    "collapsed": true
   },
   "outputs": [],
   "source": []
  }
 ],
 "metadata": {
  "anaconda-cloud": {},
  "kernelspec": {
   "display_name": "Python [default]",
   "language": "python",
   "name": "python2"
  },
  "language_info": {
   "codemirror_mode": {
    "name": "ipython",
    "version": 2
   },
   "file_extension": ".py",
   "mimetype": "text/x-python",
   "name": "python",
   "nbconvert_exporter": "python",
   "pygments_lexer": "ipython2",
   "version": "2.7.12"
  }
 },
 "nbformat": 4,
 "nbformat_minor": 1
}

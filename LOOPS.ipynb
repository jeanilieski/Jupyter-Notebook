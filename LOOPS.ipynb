{
 "cells": [
  {
   "cell_type": "code",
   "execution_count": null,
   "metadata": {
    "collapsed": true
   },
   "outputs": [],
   "source": [
    "#IF"
   ]
  },
  {
   "cell_type": "code",
   "execution_count": 6,
   "metadata": {
    "collapsed": false
   },
   "outputs": [
    {
     "name": "stdout",
     "output_type": "stream",
     "text": [
      "bigger then 1\n",
      "smaller then 100\n",
      "42 is smaller then 1 and bigger then 100\n"
     ]
    }
   ],
   "source": [
    "#ONE WAY DECISION\n",
    "\n",
    "x=42 #finding  value within a defined range\n",
    "if x>1: # True, so it goes furhter\n",
    "    print 'bigger then 1'\n",
    "    if x<100: #still True so it also prints out\n",
    "        print 'smaller then 100'\n",
    "print x, 'is smaller then 1 and bigger then 100' "
   ]
  },
  {
   "cell_type": "code",
   "execution_count": 5,
   "metadata": {
    "collapsed": false
   },
   "outputs": [
    {
     "name": "stdout",
     "output_type": "stream",
     "text": [
      "bigger\n",
      "All done\n"
     ]
    }
   ],
   "source": [
    "#TWO WAY DECISION\n",
    "x=4\n",
    "if x>2:\n",
    "    print 'bigger'\n",
    "else:\n",
    "    print 'smaller'\n",
    "print 'All done'\n"
   ]
  },
  {
   "cell_type": "code",
   "execution_count": 8,
   "metadata": {
    "collapsed": false
   },
   "outputs": [
    {
     "name": "stdout",
     "output_type": "stream",
     "text": [
      "bigger then 4\n",
      "smaller then 100\n"
     ]
    }
   ],
   "source": [
    "x=4\n",
    "if x>3:\n",
    "    print 'bigger then 4'\n",
    "    if x<100:\n",
    "        print 'smaller then 100'\n",
    "    else:\n",
    "        print 'bigger then 100'"
   ]
  },
  {
   "cell_type": "code",
   "execution_count": null,
   "metadata": {
    "collapsed": true
   },
   "outputs": [],
   "source": [
    "#TRY-EXCEPT used when you anticipate the blowing and you want \n",
    "#to replace it with some message"
   ]
  },
  {
   "cell_type": "code",
   "execution_count": 5,
   "metadata": {
    "collapsed": false
   },
   "outputs": [
    {
     "name": "stdout",
     "output_type": "stream",
     "text": [
      "number -1\n"
     ]
    }
   ],
   "source": [
    "astr='eleven'\n",
    "try:\n",
    "    istr=int(astr) #will blow\n",
    "except:\n",
    "    istr=-1\n",
    "print 'number', istr    "
   ]
  },
  {
   "cell_type": "code",
   "execution_count": 4,
   "metadata": {
    "collapsed": false
   },
   "outputs": [
    {
     "name": "stdout",
     "output_type": "stream",
     "text": [
      "number 11\n"
     ]
    }
   ],
   "source": [
    "astr='11'\n",
    "try:\n",
    "    istr=int(astr)\n",
    "except:\n",
    "    istr=-1\n",
    "print 'number', istr"
   ]
  },
  {
   "cell_type": "code",
   "execution_count": 6,
   "metadata": {
    "collapsed": false
   },
   "outputs": [
    {
     "name": "stdout",
     "output_type": "stream",
     "text": [
      "Hallo\n",
      "Done -1\n"
     ]
    }
   ],
   "source": [
    "astr='Bob'\n",
    "try:\n",
    "    print 'Hallo'\n",
    "    istr=int(astr)\n",
    "    print 'There'\n",
    "except:\n",
    "    istr=-1\n",
    "print 'Done', istr    "
   ]
  },
  {
   "cell_type": "code",
   "execution_count": 11,
   "metadata": {
    "collapsed": false
   },
   "outputs": [
    {
     "name": "stdout",
     "output_type": "stream",
     "text": [
      "Enter a number: 8\n",
      "value 8\n"
     ]
    }
   ],
   "source": [
    "rawstr=raw_input('Enter a number: ')\n",
    "try:\n",
    "    val=int(rawstr)\n",
    "except:\n",
    "    val=-1\n",
    "print 'value', val"
   ]
  },
  {
   "cell_type": "code",
   "execution_count": null,
   "metadata": {
    "collapsed": true
   },
   "outputs": [],
   "source": [
    "#FUNCTIONS def\n",
    "# use them when something repeats, like parsing"
   ]
  },
  {
   "cell_type": "code",
   "execution_count": 22,
   "metadata": {
    "collapsed": false
   },
   "outputs": [
    {
     "name": "stdout",
     "output_type": "stream",
     "text": [
      "Hello\n",
      "you\n",
      "9\n",
      "[3, 4]\n"
     ]
    }
   ],
   "source": [
    "def hello():\n",
    "    print 'Hello'\n",
    "    print 'you'\n",
    "    print max('1998')\n",
    "    print [3,4]\n",
    "    \n",
    "hello()"
   ]
  },
  {
   "cell_type": "code",
   "execution_count": 25,
   "metadata": {
    "collapsed": false
   },
   "outputs": [
    {
     "name": "stdout",
     "output_type": "stream",
     "text": [
      "Holla\n",
      "Hi\n"
     ]
    }
   ],
   "source": [
    "def greet (lang): #lang is called PARAMETER\n",
    "    if lang=='es':\n",
    "        print 'Holla' #holla is called ARGUMENT\n",
    "    elif lang=='fr':\n",
    "        print 'bonjour'\n",
    "    else:\n",
    "        print 'Hi'\n",
    "\n",
    "greet('es');\n",
    "greet('other')\n",
    "    "
   ]
  },
  {
   "cell_type": "code",
   "execution_count": 27,
   "metadata": {
    "collapsed": false
   },
   "outputs": [
    {
     "data": {
      "text/plain": [
       "'Holla'"
      ]
     },
     "execution_count": 27,
     "metadata": {},
     "output_type": "execute_result"
    }
   ],
   "source": [
    "def greet (lang): \n",
    "    if lang=='es':\n",
    "        return 'Holla' # return, not print\n",
    "    elif lang=='fr':\n",
    "        return 'bonjour'\n",
    "    else:\n",
    "        return 'Hi'\n",
    "\n",
    "greet('es')"
   ]
  },
  {
   "cell_type": "code",
   "execution_count": 38,
   "metadata": {
    "collapsed": false
   },
   "outputs": [
    {
     "data": {
      "text/plain": [
       "15"
      ]
     },
     "execution_count": 38,
     "metadata": {},
     "output_type": "execute_result"
    }
   ],
   "source": [
    "def addtwo (a,b):\n",
    "    added=a+b\n",
    "    multi=a*b\n",
    "    devid=a/b\n",
    "    return multi #you can change any of the operations here\n",
    "\n",
    "x=addtwo(5,3)\n",
    "x\n",
    "\n",
    "    "
   ]
  },
  {
   "cell_type": "code",
   "execution_count": null,
   "metadata": {
    "collapsed": true
   },
   "outputs": [],
   "source": [
    "#FOR"
   ]
  },
  {
   "cell_type": "code",
   "execution_count": 39,
   "metadata": {
    "collapsed": false
   },
   "outputs": [
    {
     "name": "stdout",
     "output_type": "stream",
     "text": [
      "1 9\n",
      "2 41\n",
      "3 12\n",
      "4 3\n",
      "5 74\n",
      "6 15\n"
     ]
    }
   ],
   "source": [
    "#Counting items in a list\n",
    "\n",
    "z=0\n",
    "for sth in [9,41,12,3,74,15]:\n",
    "    z=z+1\n",
    "    print z,sth\n",
    "    "
   ]
  },
  {
   "cell_type": "code",
   "execution_count": null,
   "metadata": {
    "collapsed": true
   },
   "outputs": [],
   "source": []
  },
  {
   "cell_type": "code",
   "execution_count": null,
   "metadata": {
    "collapsed": true
   },
   "outputs": [],
   "source": []
  },
  {
   "cell_type": "code",
   "execution_count": null,
   "metadata": {
    "collapsed": true
   },
   "outputs": [],
   "source": []
  },
  {
   "cell_type": "code",
   "execution_count": null,
   "metadata": {
    "collapsed": true
   },
   "outputs": [],
   "source": []
  },
  {
   "cell_type": "code",
   "execution_count": null,
   "metadata": {
    "collapsed": true
   },
   "outputs": [],
   "source": []
  },
  {
   "cell_type": "code",
   "execution_count": null,
   "metadata": {
    "collapsed": true
   },
   "outputs": [],
   "source": []
  },
  {
   "cell_type": "code",
   "execution_count": null,
   "metadata": {
    "collapsed": true
   },
   "outputs": [],
   "source": []
  },
  {
   "cell_type": "code",
   "execution_count": null,
   "metadata": {
    "collapsed": true
   },
   "outputs": [],
   "source": []
  },
  {
   "cell_type": "code",
   "execution_count": null,
   "metadata": {
    "collapsed": true
   },
   "outputs": [],
   "source": []
  },
  {
   "cell_type": "code",
   "execution_count": null,
   "metadata": {
    "collapsed": true
   },
   "outputs": [],
   "source": []
  },
  {
   "cell_type": "code",
   "execution_count": null,
   "metadata": {
    "collapsed": true
   },
   "outputs": [],
   "source": []
  },
  {
   "cell_type": "code",
   "execution_count": null,
   "metadata": {
    "collapsed": true
   },
   "outputs": [],
   "source": []
  },
  {
   "cell_type": "code",
   "execution_count": null,
   "metadata": {
    "collapsed": true
   },
   "outputs": [],
   "source": []
  },
  {
   "cell_type": "code",
   "execution_count": null,
   "metadata": {
    "collapsed": true
   },
   "outputs": [],
   "source": []
  }
 ],
 "metadata": {
  "anaconda-cloud": {},
  "kernelspec": {
   "display_name": "Python [default]",
   "language": "python",
   "name": "python2"
  },
  "language_info": {
   "codemirror_mode": {
    "name": "ipython",
    "version": 2
   },
   "file_extension": ".py",
   "mimetype": "text/x-python",
   "name": "python",
   "nbconvert_exporter": "python",
   "pygments_lexer": "ipython2",
   "version": "2.7.12"
  }
 },
 "nbformat": 4,
 "nbformat_minor": 1
}
